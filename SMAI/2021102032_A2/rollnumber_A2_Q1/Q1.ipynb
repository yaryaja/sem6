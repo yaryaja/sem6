{
  "cells": [
    {
      "cell_type": "code",
      "execution_count": 15,
      "metadata": {},
      "outputs": [],
      "source": [
        "import warnings\n",
        "\n",
        "# Ignore the warning\n",
        "warnings.filterwarnings('ignore')\n",
        "\n",
        "# Your code that generates the warning goes here\n",
        "\n",
        "# # Reset the warning filter to its default state (optional)\n",
        "# warnings.filterwarnings('default')\n"
      ]
    },
    {
      "cell_type": "markdown",
      "metadata": {
        "id": "blv6XBI5GxO9"
      },
      "source": [
        "# SMAI Assignment - 2\n",
        "\n",
        "## Question 1: Naive Bayes and Clustering\n",
        "\n",
        "### Part 1: Naive Bayes\n",
        "\n",
        "[Files](https://drive.google.com/drive/folders/1OUVrOMp2jSSBDJSqvEyXDFTrhiyZnqit?usp=sharing)\n",
        "\n",
        "You will be performing Sentiment Analysis on a product review dataset with reviews from customers and star rating belonging to four classes (1,2,4,5). You can use sklearn for this question. Your tasks are as follows:\n",
        "\n",
        "1.   Clean the text by removing punctations and preprocess them using techniques such as stop word removal, stemming etc. You can explore anything!\n",
        "1.  Create BoW features using the word counts. You can choose the words that form the features such that the performance is optimised. Use the train-test split provided in `train_test_index.pickle` and report any interesting observations based on metrics such as accurarcy, precision, recall and f1 score (You can use Classification report in sklearn).\n",
        "1. Repeat Task 2 with TfIdf features."
      ]
    },
    {
      "cell_type": "code",
      "execution_count": 16,
      "metadata": {
        "id": "U0nNsliRUjqd"
      },
      "outputs": [],
      "source": [
        "import pickle\n",
        "# train_index\n",
        "# test_index\n",
        "\n",
        "with open('train_test_index.pickle', 'rb') as handle:\n",
        "    train_test_index_dict = pickle.load(handle)\n",
        "train_index=train_test_index_dict[\"train_index\"]\n",
        "test_index=train_test_index_dict[\"test_index\"]\n"
      ]
    },
    {
      "cell_type": "code",
      "execution_count": 17,
      "metadata": {
        "id": "86GXlinlUz8b"
      },
      "outputs": [
        {
          "name": "stdout",
          "output_type": "stream",
          "text": [
            "Defaulting to user installation because normal site-packages is not writeable\n",
            "Requirement already satisfied: nltk in /home/ajay/.local/lib/python3.11/site-packages (3.8.1)\n",
            "Requirement already satisfied: click in /usr/lib/python3/dist-packages (from nltk) (8.1.6)\n",
            "Requirement already satisfied: joblib in /home/ajay/.local/lib/python3.11/site-packages (from nltk) (1.3.2)\n",
            "Requirement already satisfied: regex>=2021.8.3 in /home/ajay/.local/lib/python3.11/site-packages (from nltk) (2023.12.25)\n",
            "Requirement already satisfied: tqdm in /home/ajay/.local/lib/python3.11/site-packages (from nltk) (4.66.2)\n",
            "                                                text  stars\n",
            "0  Total bill for this horrible service? Over $8G...    1.0\n",
            "1  Went in for a lunch. Steak sandwich was delici...    5.0\n",
            "2  This place has gone down hill.  Clearly they h...    1.0\n",
            "3  Walked in around 4 on a Friday afternoon, we s...    1.0\n",
            "4  Michael from Red Carpet VIP is amazing ! I rea...    4.0\n",
            "(17862, 23274) (8799, 23274)\n",
            "Accuracy: 0.7096260938743039\n",
            "Classification Report:\n",
            "              precision    recall  f1-score   support\n",
            "\n",
            "         1.0       0.74      0.78      0.76      1149\n",
            "         2.0       0.44      0.05      0.09       587\n",
            "         4.0       0.49      0.50      0.49      1981\n",
            "         5.0       0.79      0.85      0.82      5082\n",
            "\n",
            "    accuracy                           0.71      8799\n",
            "   macro avg       0.61      0.55      0.54      8799\n",
            "weighted avg       0.69      0.71      0.69      8799\n",
            "\n"
          ]
        },
        {
          "data": {
            "text/plain": [
              "stars\n",
              "5.0    15397\n",
              "4.0     6003\n",
              "1.0     3481\n",
              "2.0     1780\n",
              "Name: count, dtype: int64"
            ]
          },
          "execution_count": 17,
          "metadata": {},
          "output_type": "execute_result"
        }
      ],
      "source": [
        "!pip install nltk\n",
        "import warnings\n",
        "import re\n",
        "import sklearn\n",
        "import pandas as pd\n",
        "from pandas.errors import SettingWithCopyWarning\n",
        "warnings.simplefilter(action=\"ignore\", category=SettingWithCopyWarning)\n",
        "import nltk\n",
        "from nltk.corpus import stopwords\n",
        "from nltk.tokenize import word_tokenize\n",
        "from nltk.stem import WordNetLemmatizer\n",
        "from sklearn.feature_extraction.text import CountVectorizer\n",
        "from sklearn.naive_bayes import MultinomialNB\n",
        "from sklearn.metrics import accuracy_score, classification_report\n",
        "#data cleaning and preprocessing\n",
        "import pandas as pd\n",
        "import matplotlib.pyplot as plt\n",
        "data = pd.read_csv('product_reviews.csv')\n",
        "data.drop([\"sentiment\"],axis=1,inplace=True)\n",
        "data.head()\n",
        "data.stars.value_counts()\n",
        "\n",
        "\n",
        "\n",
        "\n",
        "# nltk.download('punkt')\n",
        "# nltk.download('stopwords')\n",
        "# nltk.download('wordnet')\n",
        "\n",
        "texts=data[\"text\"]\n",
        "english_stop_words = nltk.corpus.stopwords.words('english')\n",
        "# data_size=len(texts)\n",
        "# for i in range(3):\n",
        "#     text=data[\"text\"][i]\n",
        "#     tokens=word_tokenize(text)\n",
        "\n",
        "#     stop_words=set(stopwords.words(\"english\"))\n",
        "#     filtered_tokens=[word for word in tokens if word.lower() not in stop_words ]\n",
        "    \n",
        "#     lemmtizer=WordNetLemmatizer()\n",
        "#     lemmtized_tokens=[lemmtizer.lemmatize(word) for word in filtered_tokens]\n",
        "\n",
        "#     data[\"text\"][i]=lemmtized_tokens\n",
        "def keep_only_letters(text):\n",
        "    text=re.sub(r'[^a-zA-Z\\s]','',text)\n",
        "    return text\n",
        "\n",
        "def convert_to_lowercase(text):\n",
        "    return text.lower() \n",
        "\n",
        "def clean_reviews(text):\n",
        "    text = keep_only_letters(text)\n",
        "    text = convert_to_lowercase(text)\n",
        "    return text  \n",
        "\n",
        "\n",
        "def remove_stop_words(text):\n",
        "    for stopword in english_stop_words:\n",
        "        stopword = ' ' + stopword + ' '\n",
        "        text = text.replace(stopword, ' ')\n",
        "    return text\n",
        "\n",
        "\n",
        "def text_stemming(text):\n",
        "    stemmer = nltk.porter.PorterStemmer()\n",
        "    stemmed = ' '.join([stemmer.stem(token) for token in text.split()])\n",
        "    return stemmed\n",
        "\n",
        "\n",
        "# data[\"text\"] = data['text'].apply(clean_reviews)\n",
        "# data[\"text\"] = data['text'].apply(text_stemming)\n",
        "# data[\"text\"] = data['text'].apply(remove_stop_words)\n",
        "\n",
        "print(data.head())\n",
        "\n",
        "\n",
        "\n",
        "# train test data created\n",
        "\n",
        "\n",
        "test_data=data.loc[test_index]\n",
        "train_data=data.loc[train_index]\n",
        "\n",
        "# Bow\n",
        "vectorizer=CountVectorizer(binary=True,ngram_range=(1,1))\n",
        "train_vec=vectorizer.fit_transform(train_data[\"text\"])\n",
        "test_vec=vectorizer.transform(test_data['text'])\n",
        "\n",
        "print(train_vec.shape, test_vec.shape)\n",
        "\n",
        "\n",
        "\n",
        "train_labels=train_data[\"stars\"]\n",
        "test_labels=test_data[\"stars\"]\n",
        "# print((test_labels).head())\n",
        "\n",
        "classifier = MultinomialNB()\n",
        "classifier.fit(train_vec,train_labels)\n",
        "\n",
        "\n",
        "y_pred=classifier.predict(test_vec)\n",
        "\n",
        "accuracy=accuracy_score(test_labels,y_pred)\n",
        "print(\"Accuracy:\", accuracy)\n",
        "print(\"Classification Report:\")\n",
        "print(classification_report(test_labels, y_pred))\n",
        "data[\"stars\"].value_counts()\n"
      ]
    },
    {
      "cell_type": "code",
      "execution_count": 18,
      "metadata": {},
      "outputs": [
        {
          "name": "stdout",
          "output_type": "stream",
          "text": [
            "(17862, 23274) (8799, 23274)\n",
            "Accuracy: 0.5847255369928401\n",
            "Classification Report:\n",
            "              precision    recall  f1-score   support\n",
            "\n",
            "         1.0       0.96      0.04      0.08      1149\n",
            "         2.0       0.00      0.00      0.00       587\n",
            "         4.0       0.56      0.01      0.02      1981\n",
            "         5.0       0.58      1.00      0.74      5082\n",
            "\n",
            "    accuracy                           0.58      8799\n",
            "   macro avg       0.53      0.26      0.21      8799\n",
            "weighted avg       0.59      0.58      0.44      8799\n",
            "\n"
          ]
        }
      ],
      "source": [
        "## using tf-idf\n",
        "from sklearn.feature_extraction.text import TfidfVectorizer\n",
        "vectorizer = TfidfVectorizer()\n",
        "train_vec=vectorizer.fit_transform(train_data[\"text\"])\n",
        "test_vec=vectorizer.transform(test_data['text'])\n",
        "\n",
        "print(train_vec.shape, test_vec.shape)\n",
        "\n",
        "\n",
        "\n",
        "train_labels=train_data[\"stars\"]\n",
        "test_labels=test_data[\"stars\"]\n",
        "# print((test_labels).head())\n",
        "\n",
        "classifier = MultinomialNB()\n",
        "classifier.fit(train_vec,train_labels)\n",
        "\n",
        "\n",
        "y_pred=classifier.predict(test_vec)\n",
        "\n",
        "accuracy=accuracy_score(test_labels,y_pred)\n",
        "print(\"Accuracy:\", accuracy)\n",
        "print(\"Classification Report:\")\n",
        "print(classification_report(test_labels, y_pred))\n",
        "\n"
      ]
    },
    {
      "cell_type": "markdown",
      "metadata": {
        "id": "T8GYzpkuUcs6"
      },
      "source": [
        "### Part 2: Clustering\n",
        "\n",
        "You will be performing kmeans clustering on the same product reviews dataset from Part 1. In this question, instead of statistically computing features, you will use the embeddings obtained from a neural sentiment analysis model (huggingface: siebert/sentiment-roberta-large-english).\n",
        "\n",
        "You can use sklearn for this question. Your tasks are as follows:\n",
        "\n",
        "\n",
        "1. Perform kmeans clustering using sklearn. Try various values for number of clusters (k) and plot the elbow curve. For each value of k, plot WCSS (Within-Cluster Sum of Square). WCSS is the sum of the squared distance between each point and the centroid in a cluster.\n",
        "1. Perform task 1 with cluster initialisation methods [k-means++, forgy (\"random\" in sklearn)].\n",
        "1. In this case, since the ground truth labels (star rating) are available we can evaluate the clustering using metrics like purity, nmi and rand score. Implement these metrics from scratch and evaluate the clustering. [Reference](https://nlp.stanford.edu/IR-book/html/htmledition/evaluation-of-clustering-1.html)"
      ]
    },
    {
      "cell_type": "code",
      "execution_count": 19,
      "metadata": {
        "id": "5ddsz-nxGvfE"
      },
      "outputs": [
        {
          "name": "stdout",
          "output_type": "stream",
          "text": [
            "(26661, 1024)\n"
          ]
        }
      ],
      "source": [
        "import gzip\n",
        "import numpy as np\n",
        "f = gzip.GzipFile('./roberta_embeds.npy.gz', \"r\")\n",
        "embeds = np.load(f)\n",
        "print(embeds.shape)"
      ]
    },
    {
      "cell_type": "code",
      "execution_count": 20,
      "metadata": {},
      "outputs": [
        {
          "name": "stdout",
          "output_type": "stream",
          "text": [
            "<class 'pandas.core.frame.DataFrame'>\n"
          ]
        }
      ],
      "source": [
        "Data=embeds\n",
        "df=pd.DataFrame(Data)\n",
        "X=df\n",
        "## data standaraziation\n",
        "from sklearn.preprocessing import StandardScaler\n",
        "scalar=StandardScaler()\n",
        "Data=scalar.fit_transform(Data)\n",
        "print(type(df))"
      ]
    },
    {
      "cell_type": "code",
      "execution_count": 21,
      "metadata": {},
      "outputs": [
        {
          "data": {
            "image/png": "[encoded data removed]",
            "text/plain": [
              "<Figure size 600x400 with 1 Axes>"
            ]
          },
          "metadata": {},
          "output_type": "display_data"
        }
      ],
      "source": [
        "from sklearn.cluster import KMeans\n",
        "ssd=[]\n",
        "for k in range(2,10):\n",
        "    model1=KMeans(n_clusters=k)\n",
        "    model1.fit_transform(Data)\n",
        "    ssd.append(model1.inertia_)\n",
        "\n",
        "plt.figure(figsize=(6,4),dpi=100)\n",
        "plt.plot(range(2,10),ssd,color=\"red\",marker=\"o\")\n",
        "plt.xlabel(\"Number of cluster(K)\")\n",
        "plt.ylabel(\"SSD for K\")\n",
        "plt.show()"
      ]
    },
    {
      "cell_type": "code",
      "execution_count": 22,
      "metadata": {},
      "outputs": [
        {
          "data": {
            "image/png": "[encoded data removed]",
            "text/plain": [
              "<Figure size 600x400 with 1 Axes>"
            ]
          },
          "metadata": {},
          "output_type": "display_data"
        }
      ],
      "source": [
        "## for kmeans++\n",
        "import seaborn as sns\n",
        "ssd=[]\n",
        "for k in range(2,10):\n",
        "    model2=KMeans(n_clusters=k,init=\"k-means++\")\n",
        "    model2.fit_transform(Data)\n",
        "    ssd.append(model2.inertia_)\n",
        "\n",
        "plt.figure(figsize=(6,4),dpi=100)\n",
        "plt.plot(range(2,10),ssd,color=\"red\",marker=\"o\")\n",
        "plt.xlabel(\"Number of cluster(K)\")\n",
        "plt.ylabel(\"SSD for K\")\n",
        "plt.show()"
      ]
    },
    {
      "cell_type": "code",
      "execution_count": 23,
      "metadata": {},
      "outputs": [],
      "source": [
        "\n",
        "# def contingency_matrix(true_labels, pred_labels):\n",
        "    \n",
        "#     \"\"\"\n",
        "#     Compute the contingency matrix.\n",
        "#     \"\"\"\n",
        "#     num_classes = len(np.unique(true_labels))\n",
        "#     num_clusters = len(np.unique(pred_labels))\n",
        "#     contingency_mat = np.zeros((num_classes, num_clusters))\n",
        "  \n",
        "#     for i in range(len(true_labels)):\n",
        "#         true_label =int( true_labels[i])-1\n",
        "#         pred_label = int(pred_labels[i])\n",
        "#         print(true_label, pred_label)\n",
        "#         contingency_mat[true_label][pred_label] += 1\n",
        "    \n",
        "#     return contingency_mat\n"
      ]
    },
    {
      "cell_type": "code",
      "execution_count": 24,
      "metadata": {},
      "outputs": [
        {
          "name": "stdout",
          "output_type": "stream",
          "text": [
            "[0 1 2 3]\n"
          ]
        },
        {
          "data": {
            "image/png": "[encoded data removed]",
            "text/plain": [
              "<Figure size 400x400 with 2 Axes>"
            ]
          },
          "metadata": {},
          "output_type": "display_data"
        },
        {
          "name": "stdout",
          "output_type": "stream",
          "text": [
            "The purity score is 57.75%\n"
          ]
        }
      ],
      "source": [
        "### checking the purinty score\n",
        "\n",
        "from sklearn.metrics.cluster import contingency_matrix\n",
        "import seaborn as sns\n",
        "def purity_score(y_true, y_pred):\n",
        "   \n",
        "    confusion_matrix = contingency_matrix(y_true, y_pred)\n",
        "    print(np.unique(y_pred))\n",
        "    plt.figure(figsize=(4, 4))\n",
        "    sns.heatmap(confusion_matrix, annot=True, fmt='d', cmap='Blues')\n",
        "    plt.xlabel('Predicted')\n",
        "    plt.ylabel('True')\n",
        "    plt.title('Confusion Matrix')\n",
        "    plt.show()\n",
        "   \n",
        "    return np.sum(np.amax(confusion_matrix, axis=0)) / np.sum(confusion_matrix)\n",
        "\n",
        "model=KMeans(n_clusters=4)\n",
        "    \n",
        "clusters=model.fit_predict(Data)\n",
        "centroids=model.cluster_centers_\n",
        "df[\"clusters\"]=clusters\n",
        "df.clusters.unique()\n",
        "\n",
        "labels=model.labels_\n",
        "index=[]\n",
        "index.extend(test_index)\n",
        "index.extend(train_index)\n",
        "y=data.iloc[index][\"stars\"]\n",
        "# y.head()\n",
        "\n",
        "purity = purity_score(y, labels)\n",
        "print(f\"The purity score is {round(purity*100, 2)}%\")"
      ]
    },
    {
      "cell_type": "code",
      "execution_count": 25,
      "metadata": {},
      "outputs": [
        {
          "name": "stdout",
          "output_type": "stream",
          "text": [
            "Normalized Mutual Information (NMI): 0.7402999401570404\n"
          ]
        }
      ],
      "source": [
        "### calculating nmi\n",
        "def entropy(labels):\n",
        "    \"\"\"\n",
        "    Compute the entropy of a set of labels.\n",
        "    \"\"\"\n",
        "    probs = np.bincount(labels) / len(labels)\n",
        "    entropy = -np.sum(probs * np.log2(probs + 1e-10))  # Add small epsilon to prevent log(0)\n",
        "    return entropy\n",
        "\n",
        "def mutual_information(contingency_mat):\n",
        "    \"\"\"\n",
        "    Compute mutual information from the contingency matrix.\n",
        "    \"\"\"\n",
        "    P = contingency_mat / np.sum(contingency_mat)  # Convert contingency matrix to probabilities\n",
        "    \n",
        "    # Compute marginal probabilities\n",
        "    p_class = np.sum(P, axis=1)\n",
        "    p_cluster = np.sum(P, axis=0)\n",
        "    \n",
        "    # Compute mutual information\n",
        "    MI = 0\n",
        "    for i in range(P.shape[0]):\n",
        "        for j in range(P.shape[1]):\n",
        "            if P[i][j] > 0:\n",
        "                MI += P[i][j] * np.log2(P[i][j] / (p_class[i] * p_cluster[j] + 1e-10))  # Add small epsilon to prevent log(0)\n",
        "                \n",
        "    return MI\n",
        "\n",
        "def normalized_mutual_info(true_labels, pred_labels):\n",
        "    \"\"\"\n",
        "    Compute Normalized Mutual Information (NMI) between true and predicted labels.\n",
        "    \"\"\"\n",
        "    contingency_mat = contingency_matrix(true_labels, pred_labels)\n",
        "    H_true = entropy(true_labels)\n",
        "    H_pred = entropy(pred_labels)\n",
        "    MI = mutual_information(contingency_mat)\n",
        "    \n",
        "    NMI = MI / np.sqrt(H_true * H_pred)\n",
        "    return NMI\n",
        "\n",
        "# Example usage:\n",
        "true_labels = np.array([0, 0, 1, 1, 2, 2])\n",
        "pred_labels = np.array([0, 0, 1, 2, 2, 2])\n",
        "\n",
        "nmi_score = normalized_mutual_info(true_labels, pred_labels)\n",
        "print(\"Normalized Mutual Information (NMI):\", nmi_score)"
      ]
    },
    {
      "cell_type": "code",
      "execution_count": 28,
      "metadata": {},
      "outputs": [
        {
          "name": "stdout",
          "output_type": "stream",
          "text": [
            "The Rand Score is 0.4444444444444444\n"
          ]
        }
      ],
      "source": [
        "def rand_score(y_true, y_pred):\n",
        "    # Initialize variables to count agreements and disagreements\n",
        "    agree_same_cluster = 0\n",
        "    agree_diff_cluster = 0\n",
        "    disagree = 0\n",
        "\n",
        "    n = len(y_true)\n",
        "\n",
        "    # Compare each pair of samples\n",
        "    for i in range(n):\n",
        "        for j in range(i + 1, n):\n",
        "            true_i = y_true[i]\n",
        "            true_j = y_true[j]\n",
        "            pred_i = y_pred[i]\n",
        "            pred_j = y_pred[j]\n",
        "\n",
        "            if true_i == true_j:\n",
        "                if pred_i == pred_j:\n",
        "                    agree_same_cluster += 1\n",
        "                else:\n",
        "                    disagree += 1\n",
        "            else:\n",
        "                if pred_i != pred_j:\n",
        "                    agree_diff_cluster += 1\n",
        "                else:\n",
        "                    disagree += 1\n",
        "\n",
        "    # Calculate Rand Score\n",
        "    rand_score = (agree_same_cluster + agree_diff_cluster) / (agree_same_cluster + agree_diff_cluster + disagree)\n",
        "    return rand_score\n",
        "\n",
        "\n",
        "rand_score = rand_score(y, labels)\n",
        "\n",
        "\n",
        "print(f\"The Rand Score is {rand_score}\")\n"
      ]
    },
    {
      "cell_type": "code",
      "execution_count": null,
      "metadata": {},
      "outputs": [],
      "source": []
    }
  ],
  "metadata": {
    "colab": {
      "provenance": []
    },
    "kernelspec": {
      "display_name": "Python 3",
      "name": "python3"
    },
    "language_info": {
      "codemirror_mode": {
        "name": "ipython",
        "version": 3
      },
      "file_extension": ".py",
      "mimetype": "text/x-python",
      "name": "python",
      "nbconvert_exporter": "python",
      "pygments_lexer": "ipython3",
      "version": "3.11.6"
    }
  },
  "nbformat": 4,
  "nbformat_minor": 0
}
