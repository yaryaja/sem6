{
 "cells": [
  {
   "cell_type": "code",
   "execution_count": 57,
   "metadata": {},
   "outputs": [],
   "source": [
    "import pandas as pd\n",
    "from torchvision import datasets,transforms\n",
    "from torch.utils.data import DataLoader,TensorDataset\n",
    "from sklearn.model_selection import train_test_split\n",
    "import torch\n",
    "from skimage.metrics import structural_similarity as ssim\n",
    "import numpy as np\n",
    "import matplotlib.pyplot as plt\n",
    "import torch.nn as nn\n",
    "import torch.nn.functional as F"
   ]
  },
  {
   "cell_type": "code",
   "execution_count": 58,
   "metadata": {},
   "outputs": [],
   "source": [
    "test_data=pd.DataFrame(pd.read_csv(\"./mnist_test.csv\"))\n",
    "train_data=pd.DataFrame(pd.read_csv(\"./mnist_train.csv\"))\n",
    "# check=torch.tensor(np.array(train_data.iloc[:1,1:]))\n",
    "# print(((train_data.iloc[:1,1:]).shape))\n",
    "# plt.imshow(check.reshape((28,28)))\n",
    "X=train_data.iloc[:,1:].values/255\n",
    "\n",
    "X=(X-0.5)/0.5 ## Normalization\n",
    "\n",
    "Y=train_data.iloc[:,0]\n",
    "\n",
    "# print(Y.shape)\n",
    "# print(X.shape)"
   ]
  },
  {
   "cell_type": "code",
   "execution_count": 59,
   "metadata": {},
   "outputs": [],
   "source": [
    "train_x,val_x,train_y,val_y=train_test_split(X,Y,test_size=0.2)\n",
    "X_train_tensor = torch.tensor(train_x, dtype=torch.float32)\n",
    "y_train_tensor = torch.tensor(train_y, dtype=torch.long)\n",
    "X_val_tensor = torch.tensor(np.array(val_x), dtype=torch.float32)\n",
    "y_val_tensor = torch.tensor(np.array(val_y), dtype=torch.long)\n",
    "\n",
    "\n",
    "train_dataset=TensorDataset(X_train_tensor,y_train_tensor)\n",
    "val_dataset=TensorDataset(X_val_tensor,y_val_tensor)\n",
    "batch_size=64\n",
    "train_loader=DataLoader(train_dataset,batch_size=64,shuffle=True)\n",
    "test_loader=DataLoader(val_dataset,64,shuffle=False)\n",
    "\n"
   ]
  },
  {
   "cell_type": "code",
   "execution_count": 60,
   "metadata": {},
   "outputs": [],
   "source": [
    "def add_noise(images,sigma):\n",
    "    noise=torch.randn_like(images)*sigma\n",
    "    noisy_images=images+noise\n",
    "    return torch.clamp(noisy_images,0,1)"
   ]
  },
  {
   "cell_type": "code",
   "execution_count": 61,
   "metadata": {},
   "outputs": [],
   "source": [
    "def calculate_average_ssim(model, test_loader, sigma):\n",
    "    model.eval()\n",
    "    total_ssim = 0.0\n",
    "    for images, _ in test_loader:\n",
    "        noisy_images = add_noise(images, sigma)\n",
    "        reconstructed_images = model(noisy_images)\n",
    "        for i in range(len(images)):\n",
    "            total_ssim += ssim(images[i].squeeze().numpy(), reconstructed_images[i].squeeze().detach().numpy(),data_range=2)\n",
    "    return total_ssim / len(test_loader.dataset)"
   ]
  },
  {
   "cell_type": "code",
   "execution_count": 62,
   "metadata": {},
   "outputs": [
    {
     "name": "stdout",
     "output_type": "stream",
     "text": [
      "784\n"
     ]
    }
   ],
   "source": [
    "print(len(X_train_tensor[10]))"
   ]
  },
  {
   "cell_type": "code",
   "execution_count": 63,
   "metadata": {},
   "outputs": [
    {
     "data": {
      "text/plain": [
       "<matplotlib.image.AxesImage at 0x7f70b546cc50>"
      ]
     },
     "execution_count": 63,
     "metadata": {},
     "output_type": "execute_result"
    },
    {
     "data": {
      "image/png": "[encoded data removed]",
      "text/plain": [
       "<Figure size 640x480 with 1 Axes>"
      ]
     },
     "metadata": {},
     "output_type": "display_data"
    }
   ],
   "source": [
    "# plt.im(X_train_tensor[0])\n",
    "plt.imshow(X_train_tensor[0].reshape((28,28)))\n",
    "plt.imshow(X_train_tensor[0].reshape((28,28)))"
   ]
  },
  {
   "cell_type": "code",
   "execution_count": 64,
   "metadata": {},
   "outputs": [],
   "source": [
    "# \n",
    "class AE1(torch.nn.Module):\n",
    "\tdef __init__(self,bottleneck_layer=18):\n",
    "\t\tsuper().__init__()\n",
    "\t\t\n",
    "\t\t# Building an linear encoder with Linear\n",
    "\t\t# layer followed by Relu activation function\n",
    "\t\t# 784 ==> 9\n",
    "\t\tself.bottleneck_layer=bottleneck_layer\n",
    "\t\tself.encoder = torch.nn.Sequential(\n",
    "\t\t\ttorch.nn.Linear(28 * 28, 256),\n",
    "\t\t\ttorch.nn.ReLU(),\n",
    "\t\t\ttorch.nn.Linear(256, 128),\n",
    "\t\t\ttorch.nn.ReLU(),\n",
    "\t\t\ttorch.nn.Linear(128, 64),\n",
    "\t\t\ttorch.nn.ReLU(),\n",
    "\t\t\ttorch.nn.Linear(64, bottleneck_layer),\n",
    "\t\t\t\n",
    "\t\t)\n",
    "\t\t\n",
    "\t\n",
    "\t\tself.decoder = torch.nn.Sequential(\n",
    "\t\t\ttorch.nn.Linear(bottleneck_layer, 64),\n",
    "\t\t\ttorch.nn.ReLU(),\n",
    "\t\t\ttorch.nn.Linear(64, 128),\n",
    "\t\t\ttorch.nn.ReLU(),\n",
    "\t\t\ttorch.nn.Linear(128,256),\n",
    "\t\t\ttorch.nn.ReLU(),\n",
    "\t\t\ttorch.nn.Linear(256, 28 * 28),\n",
    "\t\t\ttorch.nn.Sigmoid()\n",
    "\t\t)\n",
    "\n",
    "\tdef forward(self, x):\n",
    "\t\tencoded = self.encoder(x)\n",
    "\t\tdecoded = self.decoder(encoded)\n",
    "\t\treturn decoded\n",
    "\n"
   ]
  },
  {
   "cell_type": "code",
   "execution_count": 65,
   "metadata": {},
   "outputs": [
    {
     "name": "stdout",
     "output_type": "stream",
     "text": [
      "AE1(\n",
      "  (encoder): Sequential(\n",
      "    (0): Linear(in_features=784, out_features=256, bias=True)\n",
      "    (1): ReLU()\n",
      "    (2): Linear(in_features=256, out_features=128, bias=True)\n",
      "    (3): ReLU()\n",
      "    (4): Linear(in_features=128, out_features=64, bias=True)\n",
      "    (5): ReLU()\n",
      "    (6): Linear(in_features=64, out_features=18, bias=True)\n",
      "  )\n",
      "  (decoder): Sequential(\n",
      "    (0): Linear(in_features=18, out_features=64, bias=True)\n",
      "    (1): ReLU()\n",
      "    (2): Linear(in_features=64, out_features=128, bias=True)\n",
      "    (3): ReLU()\n",
      "    (4): Linear(in_features=128, out_features=256, bias=True)\n",
      "    (5): ReLU()\n",
      "    (6): Linear(in_features=256, out_features=784, bias=True)\n",
      "    (7): Sigmoid()\n",
      "  )\n",
      ")\n"
     ]
    }
   ],
   "source": [
    "AE1_model=AE1()\n",
    "loss_func=nn.MSELoss()\n",
    "optimizer=torch.torch.optim.Adam(AE1_model.parameters(),lr=0.0001)\n",
    "print(AE1_model)"
   ]
  },
  {
   "cell_type": "code",
   "execution_count": 66,
   "metadata": {},
   "outputs": [
    {
     "name": "stdout",
     "output_type": "stream",
     "text": [
      "Sigma: 0.1, Average SSIM: 0.0003\n",
      "Sigma: 0.3, Average SSIM: 0.0003\n",
      "Sigma: 0.5, Average SSIM: 0.0002\n",
      "\n",
      "\n",
      "Bottleneck Dimension: 12, Average SSIM: 0.0003\n",
      "Bottleneck Dimension: 20, Average SSIM: 0.0003\n",
      "Bottleneck Dimension: 28, Average SSIM: 0.0003\n"
     ]
    }
   ],
   "source": [
    "\n",
    "\n",
    "# Train and evaluate model with varying sigma values\n",
    "sigmas = [0.1, 0.3, 0.5]\n",
    "# bottleneck_dim = 16\n",
    "for sigma in sigmas:\n",
    "    num_epochs = 5\n",
    "    for epoch in range(num_epochs):\n",
    "        # AE1_model.train()\n",
    "        for images, _ in train_loader:\n",
    "            noisy_images = add_noise(images, sigma)\n",
    "            optimizer.zero_grad()\n",
    "            reconstructed_images = AE1_model(noisy_images)\n",
    "            loss = loss_func(reconstructed_images, images)\n",
    "            loss.backward()\n",
    "            optimizer.step()\n",
    "\n",
    "    average_ssim = calculate_average_ssim(AE1_model, test_loader, sigma)\n",
    "    print(f'Sigma: {sigma}, Average SSIM: {average_ssim:.4f}')\n",
    "\n",
    "print(\"\\n\")\n",
    "\n",
    "# Change bottleneck dimensionality and evaluate SSIM\n",
    "bottleneck_dims = [12, 20, 28]\n",
    "sigma = 0.1\n",
    "for bottleneck_dim in bottleneck_dims:\n",
    "    model = AE1(bottleneck_dim)\n",
    "    criterion = nn.MSELoss()\n",
    "    optimizer = torch.optim.Adam(model.parameters(), lr=0.001)\n",
    "    num_epochs = 5\n",
    "    for epoch in range(num_epochs):\n",
    "        model.train()\n",
    "        for images, _ in train_loader:\n",
    "            noisy_images = add_noise(images, sigma)\n",
    "            optimizer.zero_grad()\n",
    "            reconstructed_images = model(noisy_images)\n",
    "            loss = criterion(reconstructed_images, images)\n",
    "            loss.backward()\n",
    "            optimizer.step()\n",
    "\n",
    "    average_ssim = calculate_average_ssim(model, test_loader, sigma)\n",
    "    print(f'Bottleneck Dimension: {bottleneck_dim}, Average SSIM: {average_ssim:.4f}')"
   ]
  },
  {
   "cell_type": "code",
   "execution_count": null,
   "metadata": {},
   "outputs": [],
   "source": [
    "##2nd encoder decoder architecture\n"
   ]
  },
  {
   "cell_type": "code",
   "execution_count": 67,
   "metadata": {},
   "outputs": [],
   "source": [
    "import torch\n",
    "import torch.nn as nn\n",
    "\n",
    "class AE2(nn.Module):\n",
    "    def __init__(self, latent_dim):\n",
    "        super(AE2, self).__init__()\n",
    "\n",
    "        self.latent_dim = latent_dim\n",
    "\n",
    "        # Encoder\n",
    "        self.encoder = nn.Sequential(\n",
    "            nn.Conv2d(1, 16, kernel_size=3, padding=1),\n",
    "            nn.ReLU(),\n",
    "            nn.MaxPool2d(kernel_size=2, stride=2),\n",
    "            nn.Conv2d(16, 32, kernel_size=3, padding=1),\n",
    "            nn.ReLU(),\n",
    "            nn.MaxPool2d(kernel_size=2, stride=2)\n",
    "        )\n",
    "\n",
    "        # Decoder\n",
    "        self.decoder = nn.Sequential(\n",
    "            nn.ConvTranspose2d(32, 16, kernel_size=2, stride=2),\n",
    "            nn.ReLU(),\n",
    "            nn.ConvTranspose2d(16, 1, kernel_size=2, stride=2),\n",
    "            nn.Sigmoid()\n",
    "        )\n",
    "\n",
    "        # Fully connected layer to map bottleneck to desired dimension\n",
    "        self.fc = nn.Linear(32 * 7 * 7, self.latent_dim)\n",
    "\n",
    "        # Fully connected layer to map bottleneck back to original dimension\n",
    "        self.fc_reverse = nn.Linear(self.latent_dim, 32 * 7 * 7)\n",
    "\n",
    "    def forward(self, x):\n",
    "        # Encoder\n",
    "        x = self.encoder(x)\n",
    "        x = x.view(-1, 32 * 7 * 7)  # Flatten for fully connected layer\n",
    "        x = self.fc(x)  # Map to bottleneck dimension\n",
    "\n",
    "        # Decoder\n",
    "        x = self.fc_reverse(x)\n",
    "        x = x.view(-1, 32, 7, 7)  # Reshape for convolutional layers\n",
    "        x = self.decoder(x)\n",
    "        return x\n"
   ]
  },
  {
   "cell_type": "code",
   "execution_count": 136,
   "metadata": {},
   "outputs": [
    {
     "name": "stdout",
     "output_type": "stream",
     "text": [
      "AE2(\n",
      "  (encoder): Sequential(\n",
      "    (0): Conv2d(1, 16, kernel_size=(3, 3), stride=(1, 1), padding=(1, 1))\n",
      "    (1): ReLU()\n",
      "    (2): MaxPool2d(kernel_size=2, stride=2, padding=0, dilation=1, ceil_mode=False)\n",
      "    (3): Conv2d(16, 32, kernel_size=(3, 3), stride=(1, 1), padding=(1, 1))\n",
      "    (4): ReLU()\n",
      "    (5): MaxPool2d(kernel_size=2, stride=2, padding=0, dilation=1, ceil_mode=False)\n",
      "  )\n",
      "  (decoder): Sequential(\n",
      "    (0): ConvTranspose2d(32, 16, kernel_size=(2, 2), stride=(2, 2))\n",
      "    (1): ReLU()\n",
      "    (2): ConvTranspose2d(16, 1, kernel_size=(2, 2), stride=(2, 2))\n",
      "    (3): Sigmoid()\n",
      "  )\n",
      "  (fc): Linear(in_features=1568, out_features=100, bias=True)\n",
      "  (fc_reverse): Linear(in_features=100, out_features=1568, bias=True)\n",
      ")\n"
     ]
    }
   ],
   "source": [
    "AE2_model=AE2(100)\n",
    "loss_func=nn.MSELoss()\n",
    "optimizer=torch.torch.optim.Adam(AE2_model.parameters(),lr=0.0001)\n",
    "print(AE2_model)"
   ]
  },
  {
   "cell_type": "code",
   "execution_count": 71,
   "metadata": {},
   "outputs": [
    {
     "name": "stdout",
     "output_type": "stream",
     "text": [
      "Sigma: 0.1, Average SSIM: 0.8706\n",
      "Sigma: 0.3, Average SSIM: 0.8448\n",
      "Sigma: 0.5, Average SSIM: 0.8103\n",
      "Bottleneck Dimension: 8, Average SSIM: 0.7392\n",
      "Bottleneck Dimension: 16, Average SSIM: 0.8516\n",
      "Bottleneck Dimension: 32, Average SSIM: 0.9070\n"
     ]
    }
   ],
   "source": [
    "\n",
    "\n",
    "# Train and evaluate model with varying sigma values\n",
    "sigmas = [0.1, 0.3, 0.5]\n",
    "bottleneck_dim = 16\n",
    "for sigma in sigmas:\n",
    "    model =AE2(bottleneck_dim)\n",
    "    criterion = nn.MSELoss()\n",
    "    optimizer = torch.optim.Adam(model.parameters(), lr=0.001)\n",
    "    num_epochs = 5\n",
    "    for epoch in range(num_epochs):\n",
    "        model.train()\n",
    "        for images, _ in train_loader:\n",
    "            noisy_images = add_noise(images, sigma)\n",
    "            optimizer.zero_grad()\n",
    "            reconstructed_images = model(noisy_images)\n",
    "            loss = criterion(reconstructed_images, images)\n",
    "            loss.backward()\n",
    "            optimizer.step()\n",
    "\n",
    "    average_ssim = calculate_average_ssim(model, test_loader, sigma)\n",
    "    print(f'Sigma: {sigma}, Average SSIM: {average_ssim:.4f}')\n",
    "\n",
    "# Change bottleneck dimensionality and evaluate SSIM\n",
    "bottleneck_dims = [8, 16, 32]\n",
    "sigma = 0.3\n",
    "for bottleneck_dim in bottleneck_dims:\n",
    "    model = AE2(bottleneck_dim)\n",
    "    criterion = nn.MSELoss()\n",
    "    optimizer = torch.optim.Adam(model.parameters(), lr=0.001)\n",
    "    num_epochs = 5\n",
    "    for epoch in range(num_epochs):\n",
    "        model.train()\n",
    "        for images, _ in train_loader:\n",
    "            noisy_images = add_noise(images, sigma)\n",
    "            optimizer.zero_grad()\n",
    "            reconstructed_images = model(noisy_images)\n",
    "            loss = criterion(reconstructed_images, images)\n",
    "            loss.backward()\n",
    "            optimizer.step()\n",
    "\n",
    "    average_ssim = calculate_average_ssim(model, test_loader, sigma)\n",
    "    print(f'Bottleneck Dimension: {bottleneck_dim}, Average SSIM: {average_ssim:.4f}')\n"
   ]
  },
  {
   "cell_type": "markdown",
   "metadata": {},
   "source": []
  },
  {
   "cell_type": "markdown",
   "metadata": {},
   "source": [
    "Analysis:\n",
    "1. Impact of Gaussian Noise with Varying Sigma Values:\n",
    "Observation:\n",
    "As the sigma value increases (0.1 to 0.5), the average SSIM test score decreases.\n",
    "Higher sigma values indicate higher levels of noise, which can degrade image quality and impact reconstruction performance.\n",
    "Explanation:\n",
    "Higher sigma values lead to more intense noise, making it harder for the model to reconstruct the original image accurately.\n",
    "The decrease in SSIM score indicates reduced similarity between the original and reconstructed images as noise level increases.\n",
    "2. Impact of Bottleneck Dimensionality:\n",
    "Observation:\n",
    "Increasing the bottleneck dimensionality from 8 to 16 to 32 results in an increase in the average SSIM test score.\n",
    "Explanation:\n",
    "A higher bottleneck dimensionality allows the model to capture more information during encoding, facilitating better reconstruction during decoding.\n",
    "With a higher bottleneck dimensionality, the model has more capacity to preserve important features of the input image, resulting in improved reconstruction quality.\n",
    "The increase in SSIM score indicates higher similarity between the original and reconstructed images with a larger bottleneck dimensionality.\n"
   ]
  },
  {
   "cell_type": "code",
   "execution_count": null,
   "metadata": {},
   "outputs": [],
   "source": []
  },
  {
   "cell_type": "code",
   "execution_count": null,
   "metadata": {},
   "outputs": [],
   "source": []
  }
 ],
 "metadata": {
  "kernelspec": {
   "display_name": "Python 3",
   "language": "python",
   "name": "python3"
  },
  "language_info": {
   "codemirror_mode": {
    "name": "ipython",
    "version": 3
   },
   "file_extension": ".py",
   "mimetype": "text/x-python",
   "name": "python",
   "nbconvert_exporter": "python",
   "pygments_lexer": "ipython3",
   "version": "3.11.6"
  }
 },
 "nbformat": 4,
 "nbformat_minor": 2
}
