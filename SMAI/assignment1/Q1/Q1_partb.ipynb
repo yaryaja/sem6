{
 "cells": [
  {
   "cell_type": "code",
   "execution_count": 4,
   "metadata": {},
   "outputs": [],
   "source": [
    "# importing the libraries\n",
    "\n",
    "import pandas as pd\n",
    "import matplotlib.pyplot as plt\n",
    "from math import sqrt\n",
    "import numpy as np\n",
    "import random\n"
   ]
  },
  {
   "cell_type": "markdown",
   "metadata": {},
   "source": [
    "Loading the data"
   ]
  },
  {
   "cell_type": "code",
   "execution_count": 5,
   "metadata": {},
   "outputs": [],
   "source": [
    "df=pd.read_csv(\"./Q1Data.csv\")\n",
    "df.head()\n",
    "\n",
    "df.drop(\"Species\",axis=1,inplace=True)\n",
    "df.drop(\"Family\",axis=1,inplace=True)\n"
   ]
  },
  {
   "cell_type": "code",
   "execution_count": 6,
   "metadata": {},
   "outputs": [],
   "source": [
    "## spilitting the data data\n",
    "random.seed(0)\n",
    "def split_data(df,t):\n",
    "    if isinstance(t,float):\n",
    "        t=int(t*len(df))\n",
    "    indexes=df.index.tolist()\n",
    "    test_indexes=random.sample(population=indexes,k=t)    \n",
    "    test_df=df.loc[test_indexes]\n",
    "    train_df=df.drop(test_indexes)\n",
    "    \n",
    "    return test_df, train_df\n",
    "        \n",
    "    "
   ]
  },
  {
   "cell_type": "code",
   "execution_count": 7,
   "metadata": {},
   "outputs": [],
   "source": [
    "### split the data for trainign and testing\n",
    "reduced_df,_=split_data(df,0.4)\n",
    "test_data,train_data=split_data(reduced_df,0.9)\n",
    "test_data=test_data.values\n",
    "train_data=train_data.values\n",
    "# print(len(test_data))\n",
    "# print(len(df))\n",
    "\n",
    "\n"
   ]
  },
  {
   "cell_type": "code",
   "execution_count": 8,
   "metadata": {},
   "outputs": [],
   "source": [
    "## calculate the euclidean distance\n",
    "def euclidean_distance(r1,r2):\n",
    "\n",
    "    \n",
    "    distance=np.sqrt(np.sum((r1[0:-1]-r2[0:-1])**2))\n",
    "    return sqrt(distance)   "
   ]
  },
  {
   "cell_type": "code",
   "execution_count": 9,
   "metadata": {},
   "outputs": [],
   "source": [
    "## find the k_nearest neighbour\n",
    "def get_k_nearest_neighbours(train_data,new_data,k):\n",
    "    distance=list()\n",
    "    for row in train_data:\n",
    "        dist=euclidean_distance(row,new_data)\n",
    "        distance.append((dist,row))\n",
    "    sorted_distance=sorted(distance,key=lambda x:x[0])\n",
    "    \n",
    "    neighbours=list()\n",
    "    for i in range(k):\n",
    "        neighbours.append(sorted_distance[i][1])\n",
    "        \n",
    "    return neighbours    \n",
    "    \n",
    "    "
   ]
  },
  {
   "cell_type": "code",
   "execution_count": 10,
   "metadata": {},
   "outputs": [],
   "source": [
    "## make prediction\n",
    "def predict_class(train_data,new_data,k):\n",
    "    # print(train_data)\n",
    "    # print(new_data)\n",
    "    neighbours=get_k_nearest_neighbours(train_data,new_data,k)\n",
    "    outuput=[row[-1] for row in (neighbours)]\n",
    "    prediction=max(set(outuput),key=outuput.count)\n",
    "    return prediction"
   ]
  },
  {
   "cell_type": "code",
   "execution_count": 11,
   "metadata": {},
   "outputs": [],
   "source": [
    "## predicting the labels\n",
    "k=5\n",
    "predictions=[]\n",
    "# print(test_data)\n",
    "for row in test_data:\n",
    "    \n",
    "    curr_pred=predict_class(train_data,row,k)\n",
    "    predictions.append(curr_pred)"
   ]
  },
  {
   "cell_type": "code",
   "execution_count": 12,
   "metadata": {},
   "outputs": [],
   "source": [
    "## calculating the accuracy\n",
    "def calculate_accuracy(y_true,y_pred):\n",
    "    total=len(y_true)\n",
    "    corrct_mask=[true_label==pred_label for true_label,pred_label in zip(y_true,y_pred)]\n",
    "    correct_prediction=sum(corrct_mask)\n",
    "    accuracy=correct_prediction/total\n",
    "    return accuracy"
   ]
  },
  {
   "cell_type": "code",
   "execution_count": 13,
   "metadata": {},
   "outputs": [
    {
     "data": {
      "text/plain": [
       "92.04633204633204"
      ]
     },
     "execution_count": 13,
     "metadata": {},
     "output_type": "execute_result"
    }
   ],
   "source": [
    "y_true=test_data[:,-1]\n",
    "y_pred=predictions\n",
    "calculate_accuracy(y_true,y_pred)*100"
   ]
  },
  {
   "cell_type": "code",
   "execution_count": null,
   "metadata": {},
   "outputs": [],
   "source": []
  },
  {
   "cell_type": "code",
   "execution_count": null,
   "metadata": {},
   "outputs": [],
   "source": []
  },
  {
   "cell_type": "code",
   "execution_count": null,
   "metadata": {},
   "outputs": [],
   "source": []
  },
  {
   "cell_type": "code",
   "execution_count": null,
   "metadata": {},
   "outputs": [],
   "source": []
  }
 ],
 "metadata": {
  "kernelspec": {
   "display_name": "Python 3",
   "language": "python",
   "name": "python3"
  },
  "language_info": {
   "codemirror_mode": {
    "name": "ipython",
    "version": 3
   },
   "file_extension": ".py",
   "mimetype": "text/x-python",
   "name": "python",
   "nbconvert_exporter": "python",
   "pygments_lexer": "ipython3",
   "version": "3.10.12"
  }
 },
 "nbformat": 4,
 "nbformat_minor": 2
}
